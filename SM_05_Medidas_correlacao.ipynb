{
  "cells": [
    {
      "cell_type": "markdown",
      "metadata": {
        "id": "view-in-github",
        "colab_type": "text"
      },
      "source": [
        "<a href=\"https://colab.research.google.com/github/lima-breno/sampling_models/blob/main/SM_05_Medidas_correlacao.ipynb\" target=\"_parent\"><img src=\"https://colab.research.google.com/assets/colab-badge.svg\" alt=\"Open In Colab\"/></a>"
      ]
    },
    {
      "cell_type": "markdown",
      "id": "7e9422b9",
      "metadata": {
        "id": "7e9422b9"
      },
      "source": [
        "### Medidas de Correlação com Python\n",
        "\n",
        "#### Objetivos:\n",
        "- Entender como calcular correlações entre variáveis.\n",
        "- Aprender a usar o **Coeficiente de Correlação de Pearson** (para variáveis normalmente distribuídas).\n",
        "- Explorar métodos não paramétricos como **Spearman** e **Kendall** (para variáveis que não seguem uma distribuição normal).\n",
        "- Fazer uso de gráficos de correlação para melhor visualização dos dados.\n",
        "\n",
        "#### Dataset\n",
        "Vamos usar o dataset **`tips`** da biblioteca `seaborn`, que contém dados sobre gorjetas em um restaurante. Esse dataset é ótimo para explorar a relação entre variáveis como o total da conta e o valor da gorjeta."
      ]
    },
    {
      "cell_type": "markdown",
      "id": "0d972dcb",
      "metadata": {
        "id": "0d972dcb"
      },
      "source": [
        "### 1. Importando Bibliotecas e Carregando o Dataset"
      ]
    },
    {
      "cell_type": "code",
      "execution_count": null,
      "id": "e659591b",
      "metadata": {
        "id": "e659591b"
      },
      "outputs": [],
      "source": [
        "import pandas as pd\n",
        "import seaborn as sns\n",
        "import matplotlib.pyplot as plt"
      ]
    },
    {
      "cell_type": "markdown",
      "id": "ed76cdab",
      "metadata": {
        "id": "ed76cdab"
      },
      "source": [
        "#### Carregando o dataset tips"
      ]
    },
    {
      "cell_type": "code",
      "execution_count": null,
      "id": "8341d100",
      "metadata": {
        "id": "8341d100"
      },
      "outputs": [],
      "source": [
        "df = sns.load_dataset('tips')"
      ]
    },
    {
      "cell_type": "markdown",
      "id": "e48f161f",
      "metadata": {
        "id": "e48f161f"
      },
      "source": [
        "#### Exibindo as primeiras linhas do dataset"
      ]
    },
    {
      "cell_type": "code",
      "execution_count": null,
      "id": "b44ecd1f",
      "metadata": {
        "id": "b44ecd1f",
        "outputId": "a626173e-d237-420b-ba00-b0d7ed69ce60"
      },
      "outputs": [
        {
          "name": "stdout",
          "output_type": "stream",
          "text": [
            "   total_bill   tip     sex smoker  day    time  size\n",
            "0       16.99  1.01  Female     No  Sun  Dinner     2\n",
            "1       10.34  1.66    Male     No  Sun  Dinner     3\n",
            "2       21.01  3.50    Male     No  Sun  Dinner     3\n",
            "3       23.68  3.31    Male     No  Sun  Dinner     2\n",
            "4       24.59  3.61  Female     No  Sun  Dinner     4\n"
          ]
        }
      ],
      "source": [
        "print(df.head())"
      ]
    },
    {
      "cell_type": "markdown",
      "id": "c4dfe567",
      "metadata": {
        "id": "c4dfe567"
      },
      "source": [
        "### 2. Correlação de Pearson\n",
        "\n",
        "#### 2.1 O que é o Coeficiente de Correlação de Pearson?\n",
        "O **Coeficiente de Correlação de Pearson** mede a **força** e a **direção** da relação linear entre duas variáveis quantitativas. Ele assume que as variáveis têm uma distribuição normal.\n",
        "\n",
        "- **Quando usar**: Pearson é utilizado quando as variáveis têm uma relação linear e ambas seguem uma **distribuição normal**.\n",
        "\n",
        "Onde \\( r \\) varia entre -1 e 1:\n",
        "  - \\( r = 1 \\): Correlação positiva perfeita\n",
        "  - \\( r = -1 \\): Correlação negativa perfeita\n",
        "  - \\( r = 0 \\): Sem correlação linear"
      ]
    },
    {
      "cell_type": "markdown",
      "id": "c792694b",
      "metadata": {
        "id": "c792694b"
      },
      "source": [
        "#### 2.2 Cálculo de Pearson\n",
        "Vamos calcular a correlação de Pearson entre `total_bill` (valor total da conta) e `tip` (gorjeta)."
      ]
    },
    {
      "cell_type": "markdown",
      "id": "b68d280f",
      "metadata": {
        "id": "b68d280f"
      },
      "source": [
        "#### Calculando a correlação de Pearson entre 'total_bill' e 'tip'"
      ]
    },
    {
      "cell_type": "code",
      "execution_count": null,
      "id": "e6cedf49",
      "metadata": {
        "id": "e6cedf49",
        "outputId": "59b9b245-980a-46ee-d824-3833b57a500c"
      },
      "outputs": [
        {
          "name": "stdout",
          "output_type": "stream",
          "text": [
            "Correlação de Pearson entre 'total_bill' e 'tip': 0.6757341092113646\n"
          ]
        }
      ],
      "source": [
        "pearson_corr = df['total_bill'].corr(df['tip'], method='pearson')\n",
        "print(\"Correlação de Pearson entre 'total_bill' e 'tip':\", pearson_corr)"
      ]
    },
    {
      "cell_type": "markdown",
      "id": "e964526f",
      "metadata": {
        "id": "e964526f"
      },
      "source": [
        "### 3. Métodos Não Paramétricos: Spearman e Kendall\n",
        "\n",
        "#### 3.1 Correlação de Spearman\n",
        "O **Coeficiente de Spearman** mede a relação **monotônica** entre duas variáveis, o que significa que, à medida que uma variável aumenta, a outra também aumenta ou diminui, mas não necessariamente de forma linear.\n",
        "\n",
        "- **Quando usar**: Use Spearman quando os dados não forem normalmente distribuídos ou se a relação entre as variáveis for **monotônica** (não linear).\n",
        "- Baseia-se no ranking das variáveis.\n"
      ]
    },
    {
      "cell_type": "markdown",
      "id": "0c9216fa",
      "metadata": {
        "id": "0c9216fa"
      },
      "source": [
        "#### 3.2 Cálculo de Spearman"
      ]
    },
    {
      "cell_type": "markdown",
      "id": "635b0aa3",
      "metadata": {
        "id": "635b0aa3"
      },
      "source": [
        "#### Calculando a correlação de Spearman entre 'total_bill' e 'tip'"
      ]
    },
    {
      "cell_type": "code",
      "execution_count": null,
      "id": "78340097",
      "metadata": {
        "id": "78340097",
        "outputId": "ad9e83eb-3c50-44cd-c96d-13a323cee36c"
      },
      "outputs": [
        {
          "name": "stdout",
          "output_type": "stream",
          "text": [
            "Correlação de Spearman entre 'total_bill' e 'tip': 0.6789681219001009\n"
          ]
        }
      ],
      "source": [
        "spearman_corr = df['total_bill'].corr(df['tip'], method='spearman')\n",
        "print(\"Correlação de Spearman entre 'total_bill' e 'tip':\", spearman_corr)"
      ]
    },
    {
      "cell_type": "markdown",
      "id": "f0ff14fb",
      "metadata": {
        "id": "f0ff14fb"
      },
      "source": [
        "#### 3.3 Correlação de Kendall\n",
        "O **Coeficiente de Kendall** é outra medida não paramétrica que mede a associação entre duas variáveis. Ele leva em consideração a concordância entre pares de observações.\n",
        "\n",
        "- **Quando usar**: Utilize Kendall quando o número de dados é pequeno, ou quando há muitos empates nos dados.\n",
        "- Baseia-se na concordância e discordância de pares ordenados.\n"
      ]
    },
    {
      "cell_type": "markdown",
      "id": "e941713c",
      "metadata": {
        "id": "e941713c"
      },
      "source": [
        "#### 3.4 Cálculo de Kendall\n",
        "\n",
        "#### Calculando a correlação de Kendall entre 'total_bill' e 'tip'"
      ]
    },
    {
      "cell_type": "code",
      "execution_count": null,
      "id": "8362ccc7",
      "metadata": {
        "id": "8362ccc7",
        "outputId": "ddc4bf66-201e-4b25-dd5a-7c8ea37c9597"
      },
      "outputs": [
        {
          "name": "stdout",
          "output_type": "stream",
          "text": [
            "Correlação de Kendall entre 'total_bill' e 'tip': 0.517180972142381\n"
          ]
        }
      ],
      "source": [
        "kendall_corr = df['total_bill'].corr(df['tip'], method='kendall')\n",
        "print(\"Correlação de Kendall entre 'total_bill' e 'tip':\", kendall_corr)"
      ]
    },
    {
      "cell_type": "markdown",
      "id": "367170b4",
      "metadata": {
        "id": "367170b4"
      },
      "source": [
        "### 4. Exibindo a Matriz de Correlação\n",
        "\n",
        "Vamos exibir uma **matriz de correlação** entre todas as variáveis numéricas do dataset, usando o método de Pearson."
      ]
    },
    {
      "cell_type": "code",
      "execution_count": null,
      "id": "efe46ee4",
      "metadata": {
        "id": "efe46ee4",
        "outputId": "6a57bf66-2162-4d8f-f4f7-83e4c99a58e0"
      },
      "outputs": [
        {
          "name": "stdout",
          "output_type": "stream",
          "text": [
            "Matriz de correlação (Pearson):\n",
            "             total_bill       tip      size\n",
            "total_bill    1.000000  0.675734  0.598315\n",
            "tip           0.675734  1.000000  0.489299\n",
            "size          0.598315  0.489299  1.000000\n"
          ]
        }
      ],
      "source": [
        "# Criando uma matriz de correlação com Pearson\n",
        "numeric_df = df.select_dtypes(include=['float64', 'int64'])\n",
        "corr_matrix = numeric_df.corr(method='pearson')\n",
        "print(\"Matriz de correlação (Pearson):\\n\", corr_matrix)"
      ]
    },
    {
      "cell_type": "code",
      "execution_count": null,
      "id": "aa73eee0",
      "metadata": {
        "id": "aa73eee0",
        "outputId": "7223676d-08b1-46d7-ce18-253c902d0392"
      },
      "outputs": [
        {
          "data": {
            "image/png": "[encoded data removed]",
            "text/plain": [
              "<Figure size 800x600 with 2 Axes>"
            ]
          },
          "metadata": {},
          "output_type": "display_data"
        }
      ],
      "source": [
        "# Plotando a matriz de correlação com um heatmap\n",
        "plt.figure(figsize=(8, 6))\n",
        "sns.heatmap(corr_matrix, annot=True, cmap='coolwarm', vmin=-1, vmax=1)\n",
        "plt.title('Matriz de Correlação (Pearson)')\n",
        "plt.show()"
      ]
    },
    {
      "cell_type": "markdown",
      "id": "2ec0ab02",
      "metadata": {
        "id": "2ec0ab02"
      },
      "source": [
        "### 5. Comparando os Métodos\n",
        "- **Pearson**: Usado quando as variáveis são normalmente distribuídas e têm uma relação linear.\n",
        "- **Spearman**: Adequado quando as variáveis têm uma relação monotônica, mas não necessariamente linear, ou quando os dados não seguem uma distribuição normal.\n",
        "- **Kendall**: Preferido em datasets pequenos ou com muitos empates, fornecendo uma medida mais robusta em alguns casos.\n"
      ]
    }
  ],
  "metadata": {
    "kernelspec": {
      "display_name": "Python 3 (ipykernel)",
      "language": "python",
      "name": "python3"
    },
    "language_info": {
      "codemirror_mode": {
        "name": "ipython",
        "version": 3
      },
      "file_extension": ".py",
      "mimetype": "text/x-python",
      "name": "python",
      "nbconvert_exporter": "python",
      "pygments_lexer": "ipython3",
      "version": "3.11.7"
    },
    "colab": {
      "provenance": [],
      "include_colab_link": true
    }
  },
  "nbformat": 4,
  "nbformat_minor": 5
}