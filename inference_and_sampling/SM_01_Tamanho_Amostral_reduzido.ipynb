{
  "cells": [
    {
      "cell_type": "markdown",
      "metadata": {
        "id": "view-in-github",
        "colab_type": "text"
      },
      "source": [
        "<a href=\"https://colab.research.google.com/github/lima-breno/sampling_models/blob/main/SM_01_Tamanho_Amostral_reduzido.ipynb\" target=\"_parent\"><img src=\"https://colab.research.google.com/assets/colab-badge.svg\" alt=\"Open In Colab\"/></a>"
      ]
    },
    {
      "cell_type": "markdown",
      "id": "cd1c8453",
      "metadata": {
        "id": "cd1c8453"
      },
      "source": [
        "# Cálculo Tamanho Amostral\n",
        "## Tamanho amostral para média"
      ]
    },
    {
      "cell_type": "markdown",
      "id": "8888e62a",
      "metadata": {
        "id": "8888e62a"
      },
      "source": [
        "Uma pesquisa é planejada para determinar as despesas médicas anuais das famílias dos empregados de uma empresa. A gerência da empresa deseja ter 95% de confiança de que a média da amostra esteja no máximo a uma distância de 50,00 reais média real das despesas médicas familiares. Um estudo-piloto indica que o desvio padrão pode ser considerado como sendo igual a R\\$400,00.\n",
        "\n",
        "Parâmetro a ser estimado: Média das despesas médicas anuais.\n",
        "\n",
        "Dados do enunciado:\n",
        "\n",
        "-   Nível de confiança: 0,95\n",
        "\n",
        "-   Margem de erro: R\\$50,00\n",
        "\n",
        "-   Desvio padrão populacional estimado: R\\$400,00\n",
        "\n",
        "A ) Qual o tamanho de amostra necessário?"
      ]
    },
    {
      "cell_type": "code",
      "execution_count": null,
      "id": "f831be00",
      "metadata": {
        "id": "f831be00",
        "outputId": "0daf459d-512b-493e-af26-d88ec49af79f"
      },
      "outputs": [
        {
          "name": "stdout",
          "output_type": "stream",
          "text": [
            "O tamanho da amostra necessário é aproximadamente 246.\n"
          ]
        }
      ],
      "source": [
        "import math\n",
        "from scipy.stats import norm\n",
        "\n",
        "# Nível de confiança\n",
        "nivel_confianca = 0.95\n",
        "\n",
        "# Margem de erro\n",
        "margem_erro = 50\n",
        "\n",
        "# Desvio padrão populacional\n",
        "desvio_padrao = 400\n",
        "\n",
        "# Z-score correspondente ao nível de confiança\n",
        "z_score = norm.ppf((1 + nivel_confianca) / 2)\n",
        "\n",
        "# Tamanho da amostra\n",
        "tamanho_amostra = (z_score * (desvio_padrao / margem_erro)) ** 2\n",
        "\n",
        "print(f'O tamanho da amostra necessário é aproximadamente {math.ceil(tamanho_amostra)}.')"
      ]
    },
    {
      "cell_type": "markdown",
      "id": "a16ba8f0",
      "metadata": {
        "id": "a16ba8f0"
      },
      "source": [
        "B)  Se a gerência deseja estar certa em uma margem de erro de R\\$25,00, que tamanho de amostra será necessário?"
      ]
    },
    {
      "cell_type": "code",
      "execution_count": null,
      "id": "cd70edee",
      "metadata": {
        "id": "cd70edee",
        "outputId": "41029b95-a5d0-41f7-e691-dc9e8efb7245"
      },
      "outputs": [
        {
          "name": "stdout",
          "output_type": "stream",
          "text": [
            "O tamanho da amostra necessário é aproximadamente 984.\n"
          ]
        }
      ],
      "source": [
        "# Nível de confiança\n",
        "nivel_confianca = 0.95\n",
        "\n",
        "# Margem de erro\n",
        "margem_erro = 25\n",
        "\n",
        "# Desvio padrão populacional\n",
        "desvio_padrao = 400\n",
        "\n",
        "# Z-score correspondente ao nível de confiança\n",
        "z_score = norm.ppf((1 + nivel_confianca) / 2)\n",
        "\n",
        "# Tamanho da amostra\n",
        "tamanho_amostra = (z_score * (desvio_padrao / margem_erro)) ** 2\n",
        "\n",
        "print(f'O tamanho da amostra necessário é aproximadamente {math.ceil(tamanho_amostra)}.')"
      ]
    },
    {
      "cell_type": "markdown",
      "id": "9651745c",
      "metadata": {
        "id": "9651745c"
      },
      "source": [
        "C) Sabe-se que a empresa tem, atualmente, 386 empregados. Qual deve ser o tamanho amostral necessário para termos um nível de 92% de confiança? (Mantendo-se inalteradas as outras informações do enunciado)"
      ]
    },
    {
      "cell_type": "markdown",
      "id": "42492c81",
      "metadata": {
        "id": "42492c81"
      },
      "source": [
        "\n",
        "Quando o tamanho da população é conhecido e relativamente grande em comparação com o tamanho da amostra, é apropriado usar a correção para a população finita. Nesse caso, a fórmula para calcular o tamanho da amostra é ajustada para levar em consideração o tamanho da população.\n",
        "\n",
        "A fórmula ajustada para o tamanho da amostra com correção para população finita é:\n",
        "$$ n = \\frac{{Z^2 \\cdot \\sigma^2 \\cdot N}}{{Z^2 \\cdot \\sigma^2 + (N - 1) \\cdot E^2}}\n",
        "$$\n",
        "\n",
        "Onde:\n",
        "\n",
        "- \\( n \\) é o tamanho da amostra necessário,\n",
        "- \\( Z \\) é o escore z correspondente ao nível de confiança,\n",
        "- \\(σ) é o desvio padrão populacional,\n",
        "- \\( N \\) é o tamanho da população, e\n",
        "- \\( E \\) é a margem de erro.\n",
        "\n",
        "\n",
        "\n"
      ]
    },
    {
      "cell_type": "code",
      "execution_count": null,
      "id": "c8df51cf",
      "metadata": {
        "id": "c8df51cf",
        "outputId": "c5fc2646-6892-438c-8f9d-d4e564018933"
      },
      "outputs": [
        {
          "name": "stdout",
          "output_type": "stream",
          "text": [
            "C) O tamanho de amostra necessário para 92% de confiança, considerando a população finita, é aproximadamente 131.\n"
          ]
        }
      ],
      "source": [
        "# Nível de confiança\n",
        "nivel_confianca = 0.92\n",
        "\n",
        "# Margem de erro\n",
        "margem_erro = 50\n",
        "\n",
        "# Desvio padrão populacional\n",
        "desvio_padrao = 400\n",
        "\n",
        "# Tamanho populacional conhecido\n",
        "n_empregados = 386\n",
        "\n",
        "# Z-score correspondente ao nível de confiança\n",
        "z_score = norm.ppf((1 + nivel_confianca) / 2)\n",
        "\n",
        "\n",
        "# Tamanho da amostra\n",
        "\n",
        "tamanho_amostra = (z_score**2 * desvio_padrao**2 * n_empregados) / ((z_score**2 * desvio_padrao**2) + ((n_empregados - 1) * margem_erro**2))\n",
        "print(f'C) O tamanho de amostra necessário para 92% de confiança, considerando a população finita, é aproximadamente {math.ceil(tamanho_amostra)}.')"
      ]
    },
    {
      "cell_type": "markdown",
      "id": "9d7429a9",
      "metadata": {
        "id": "9d7429a9"
      },
      "source": [
        "## Tamanho amostral para Proporção"
      ]
    },
    {
      "cell_type": "markdown",
      "id": "1d3749bd",
      "metadata": {
        "id": "1d3749bd"
      },
      "source": [
        "O reitor de uma universidade deseja estimar com uma margem de erro de 5% e um nível de confiança de 99%, a proporção de estudantes matriculados nos programas de MBA que fizeram graduação em Sistemas de Informação. Sabe-se que, atualmente, há 550 alunos fazendo MBA. Qual tamanho mínimo de amostra deve ser coletado?\n",
        "\n",
        "A ) Estima-se que a proporção populacional seja de 23%."
      ]
    },
    {
      "cell_type": "code",
      "execution_count": null,
      "id": "b95bd906",
      "metadata": {
        "id": "b95bd906",
        "outputId": "6ccf3693-f5a5-4c72-a31a-ecc9e1b0e804"
      },
      "outputs": [
        {
          "data": {
            "text/plain": [
              "470.0160752163427"
            ]
          },
          "execution_count": 4,
          "metadata": {},
          "output_type": "execute_result"
        }
      ],
      "source": [
        "# Parâmetros fornecidos\n",
        "p_estimado = 0.23\n",
        "E = 0.05\n",
        "nivel_confianca = 0.99\n",
        "\n",
        "# Encontrando o valor de Z para o nível de confiança especificado\n",
        "Z = norm.ppf((1 + nivel_confianca) / 2)\n",
        "\n",
        "# Calculando o tamanho amostral necessário\n",
        "n_estimado = ((Z**2) * p_estimado * (1 - p_estimado)) / (E**2)\n",
        "n_estimado"
      ]
    },
    {
      "cell_type": "markdown",
      "id": "72c6a75c",
      "metadata": {
        "id": "72c6a75c"
      },
      "source": [
        "B)  Não há base para estimar o valor aproximado da proporção populacional."
      ]
    },
    {
      "cell_type": "code",
      "execution_count": null,
      "id": "29eb3a25",
      "metadata": {
        "id": "29eb3a25",
        "outputId": "dd46a47f-64c9-4b5b-acb5-40ed784ae46c"
      },
      "outputs": [
        {
          "data": {
            "text/plain": [
              "663.4896601021212"
            ]
          },
          "execution_count": 5,
          "metadata": {},
          "output_type": "execute_result"
        }
      ],
      "source": [
        "# Parâmetros fornecidos\n",
        "p_estimado = 0.5\n",
        "E = 0.05\n",
        "nivel_confianca = 0.99\n",
        "\n",
        "# Encontrando o valor de Z para o nível de confiança especificado\n",
        "Z = norm.ppf((1 + nivel_confianca) / 2)\n",
        "\n",
        "# Calculando o tamanho amostral necessário\n",
        "n_estimado = ((Z**2) * p_estimado * (1 - p_estimado)) / (E**2)\n",
        "n_estimado"
      ]
    }
  ],
  "metadata": {
    "kernelspec": {
      "display_name": "Python 3 (ipykernel)",
      "language": "python",
      "name": "python3"
    },
    "language_info": {
      "codemirror_mode": {
        "name": "ipython",
        "version": 3
      },
      "file_extension": ".py",
      "mimetype": "text/x-python",
      "name": "python",
      "nbconvert_exporter": "python",
      "pygments_lexer": "ipython3",
      "version": "3.11.3"
    },
    "colab": {
      "provenance": [],
      "include_colab_link": true
    }
  },
  "nbformat": 4,
  "nbformat_minor": 5
}
