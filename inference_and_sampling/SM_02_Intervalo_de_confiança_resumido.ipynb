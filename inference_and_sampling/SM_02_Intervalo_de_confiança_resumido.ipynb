{
  "cells": [
    {
      "cell_type": "markdown",
      "metadata": {
        "id": "view-in-github",
        "colab_type": "text"
      },
      "source": [
        "<a href=\"https://colab.research.google.com/github/lima-breno/sampling_models/blob/main/SM_02_Intervalo_de_confian%C3%A7a_resumido.ipynb\" target=\"_parent\"><img src=\"https://colab.research.google.com/assets/colab-badge.svg\" alt=\"Open In Colab\"/></a>"
      ]
    },
    {
      "cell_type": "markdown",
      "id": "86500f88",
      "metadata": {
        "id": "86500f88"
      },
      "source": [
        "# Intervalos de confiança\n",
        "## Intervalo de confiança para média com σ conhecido\n",
        "\n"
      ]
    },
    {
      "cell_type": "markdown",
      "id": "3158c043",
      "metadata": {
        "id": "3158c043"
      },
      "source": [
        "Importando Bibliotecas"
      ]
    },
    {
      "cell_type": "code",
      "execution_count": null,
      "id": "9c8443ab",
      "metadata": {
        "id": "9c8443ab"
      },
      "outputs": [],
      "source": [
        "import scipy.stats as stats"
      ]
    },
    {
      "cell_type": "markdown",
      "id": "5e8db3ab",
      "metadata": {
        "id": "5e8db3ab"
      },
      "source": [
        "**Exemplo 1**\n",
        "\n",
        "Em uma indústria de cerveja, a quantidade de cerveja inserida em latas tem-se comportado como uma variável aleatória distribuída normalmente com média 350 ml e desvio padrão 3 ml. Após alguns problemas na linha de produção, suspeita-se que houve alteração na média. Uma amostra de 120 latas acusou média 346 ml. Encontre a estimativa pontual e construa um intervalo de confiança para o novo valor da quantidade média de cerveja inserida em latas, com nível de confiança de 95%, supondo que não tenha ocorrido alteração no desvio padrão do processo.\n",
        "\n",
        "X: Quantidade média de cerveja inserida nas latas (em ml).\n",
        "\n",
        "Dados disponíveis no enunciado:\n",
        "\n",
        "-   X \\~ N(350,3²)\n",
        "\n",
        "-   n=120 latas → Tamanho da amostra\n",
        "\n",
        "-   media=346ml → Quantidade média observada na amostra → Estimativa pontual!\n",
        "\n",
        "-   σ=3ml → Desvio padrão da população de cervejas produzidas pela empresa.\n",
        "\n",
        "-   1-α=0,95 → Nível de confiança\n"
      ]
    },
    {
      "cell_type": "code",
      "execution_count": null,
      "id": "6f2dc18f",
      "metadata": {
        "id": "6f2dc18f"
      },
      "outputs": [],
      "source": [
        "# Dados\n",
        "media = 346\n",
        "sigma = 3\n",
        "alpha = 0.05\n",
        "n = 120"
      ]
    },
    {
      "cell_type": "code",
      "execution_count": null,
      "id": "fc7774d3",
      "metadata": {
        "id": "fc7774d3",
        "outputId": "944bc454-03d3-44f3-8268-a2a2d4836a2b"
      },
      "outputs": [
        {
          "data": {
            "text/plain": [
              "1.959963984540054"
            ]
          },
          "execution_count": 7,
          "metadata": {},
          "output_type": "execute_result"
        }
      ],
      "source": [
        "# Valor crítico Z\n",
        "zc = stats.norm.ppf(1 - alpha/2)\n",
        "zc"
      ]
    },
    {
      "cell_type": "code",
      "execution_count": null,
      "id": "75ceaaec",
      "metadata": {
        "id": "75ceaaec",
        "outputId": "7b284c25-4b27-411f-8cdc-39519591b4a2"
      },
      "outputs": [
        {
          "data": {
            "text/plain": [
              "0.5367582431151471"
            ]
          },
          "execution_count": 9,
          "metadata": {},
          "output_type": "execute_result"
        }
      ],
      "source": [
        "# Erro amostral\n",
        "erro = zc * sigma / (n ** 0.5)\n",
        "erro"
      ]
    },
    {
      "cell_type": "markdown",
      "id": "4eb7cd9f",
      "metadata": {
        "id": "4eb7cd9f"
      },
      "source": [
        "Construir o intervalo para μ com 95% de confiança"
      ]
    },
    {
      "cell_type": "code",
      "execution_count": null,
      "id": "4d545267",
      "metadata": {
        "id": "4d545267",
        "outputId": "321b5100-5bc7-47bf-8626-de852495b032"
      },
      "outputs": [
        {
          "name": "stdout",
          "output_type": "stream",
          "text": [
            "(345.4632417568848, 346.5367582431152)\n"
          ]
        }
      ],
      "source": [
        "# Intervalo de confiança\n",
        "intervalo_confianca = (media - erro, media + erro)\n",
        "print(intervalo_confianca)"
      ]
    },
    {
      "cell_type": "markdown",
      "id": "6388803a",
      "metadata": {
        "id": "6388803a"
      },
      "source": [
        "**Interpretação do intervalo de confiança:**\n",
        "\n",
        "[345.46 ; 346.54] Podemos afirmar com 95% de confiança que o intervalo 345.46 ml a 346.54 ml contem o verdadeiro valor da quantidade média de cerveja inserida nas latas.\n"
      ]
    },
    {
      "cell_type": "markdown",
      "id": "2339fdd3",
      "metadata": {
        "id": "2339fdd3"
      },
      "source": [
        "**Faça você mesmo:**\n",
        "\n",
        "O diretor do comitê de admissão de uma universidade deseja estimar a média de idade de todos os estudantes aprovados no momento. Sabe-se que, de levantamentos anteriores, o desvio padrão da população é de 1,5 ano. Em uma amostra aleatória de 20 estudantes, a idade média encontrada foi de 22,9 anos.\n",
        "\n",
        "X: Idade de todos os estudantes aprovados .\n",
        "\n",
        "Dados disponíveis no enunciado:\n",
        "\n",
        "- n=20 estudantes → Tamanho da amostra\n",
        "\n",
        "- media= 22,9 anos→ Quantidade média observada na amostra\n",
        "\n",
        "- σ= 1,5 ano → Desvio padrão da população.\n",
        "\n",
        "a)  Com base nessa amostra, qual é a estimativa pontual da idade média dos estudantes aprovados?\n",
        "\n",
        "b)  Construa um intervalo de 90% de confiança para a idade média da população.\n"
      ]
    },
    {
      "cell_type": "markdown",
      "id": "a280f2b5",
      "metadata": {
        "id": "a280f2b5"
      },
      "source": [
        "## Intervalo de confiança para média com σ desconhecido\n"
      ]
    },
    {
      "cell_type": "markdown",
      "id": "e82b78c9",
      "metadata": {
        "id": "e82b78c9"
      },
      "source": [
        "**Exemplo 1**\n",
        "\n",
        "Com um teste destrutivo, as amostras são destruídas no processo de teste. O teste de colisão de carros é um exemplo muito dispendioso de teste destrutivo. Suponha que tenhamos feito teste de colisão em 12 carros esporte sob uma diversidade de condições que simulam colisões típicas. A análise dos 12 carros danificados resulta em custos de conserto com média igual a US\\$26.227,00 e um desvio padrão de US\\$15.873,00. Sabe-se que os dados têm distribuição aproximadamente normal.\n",
        "\n",
        "X: Custo de conserto pós colisão .\n",
        "\n",
        "Dados disponíveis no enunciado:\n",
        "\n",
        "-   n=12 → Tamanho da amostra\n",
        "\n",
        "-   media= 26.227,00 → Quantidade média observada na amostra\n",
        "\n",
        "-   s= 15.873,00 → Desvio padrão AMOSTRAL.\n",
        "\n",
        "Determine:\n",
        "\n",
        "a)  A melhor estimativa pontual de μ, o custo médio de conserto de todos os carros esporte envolvidos em colisões.\n",
        "\n",
        "    US\\$26227,00\n",
        "\n",
        "b)  A estimativa intervalar de 95% de confiança para μ"
      ]
    },
    {
      "cell_type": "code",
      "execution_count": null,
      "id": "9954ed1d",
      "metadata": {
        "id": "9954ed1d",
        "outputId": "ae5d16ba-5989-49dd-9dbf-6619ab592875"
      },
      "outputs": [
        {
          "name": "stdout",
          "output_type": "stream",
          "text": [
            "(16141.776953040577, 36312.22304695942)\n"
          ]
        }
      ],
      "source": [
        "# Dados\n",
        "media = 26227\n",
        "s = 15873\n",
        "n = 12\n",
        "\n",
        "# Valor crítico t\n",
        "tc = stats.t.ppf(1 - alpha/2, df=n-1)\n",
        "\n",
        "# Erro amostral\n",
        "erro = tc * s / (n ** 0.5)\n",
        "\n",
        "# Intervalo de confiança\n",
        "intervalo_confianca = (media - erro, media + erro)\n",
        "print(intervalo_confianca)"
      ]
    },
    {
      "cell_type": "markdown",
      "id": "cdd85b95",
      "metadata": {
        "id": "cdd85b95"
      },
      "source": [
        "Considerando um nível de 95% de confiança podemos dizer que o intervalo de 16.141,78 a 36.312,22 contém o verdadeiro valor do custo médio para conserto de veículos submetidos a teste de colisão, considerando uma margem de erro de 10.085,22."
      ]
    },
    {
      "cell_type": "markdown",
      "id": "f17bb8bc",
      "metadata": {
        "id": "f17bb8bc"
      },
      "source": [
        "**Faça você mesmo:**\n",
        "\n",
        "Em uma pesquisa de orçamento familiar desenvolvida pelo instituto ZX, solicitou-se a uma amostra de 16 domicílios de certa região que anotassem suas despesas com alimentação durante uma semana. O resultado foi uma despesa média de R\\$330,00 com um desvio padrão de R\\$40,00. Construa e interprete um intervalo de 98% de confiança para a verdadeira despesa média semanal com alimentação por domicílio de toda a região. Suponha que a população tenha uma distribuição aproximadamente normal.\n",
        "\n",
        "X: Despesa média familiar .\n",
        "\n",
        "Dados disponíveis no enunciado:\n",
        "\n",
        "-   n=16 → Tamanho da amostra\n",
        "\n",
        "-   media= 330,00 → Quantidade média observada na amostra\n",
        "\n",
        "-   s= 40,00 → Desvio padrão AMOSTRAL."
      ]
    },
    {
      "cell_type": "markdown",
      "id": "3f234b71",
      "metadata": {
        "id": "3f234b71"
      },
      "source": [
        "## Intervalo de confiança para Proporção\n",
        "\n"
      ]
    },
    {
      "cell_type": "markdown",
      "id": "0da4152a",
      "metadata": {
        "id": "0da4152a"
      },
      "source": [
        "**Exemplo 1**\n",
        "\n",
        "Em uma linha de produção de certa peça cerâmica, colheu-se uma amostra de 125 itens, constatando-se 7 peças eram defeituosas. Com esses resultados amostrais, determine a estimativa intervalar de 87% de confiança da proporção de peças defeituosas produzidas pela empresa.\n",
        "\n",
        "Dados disponíveis no enunciado:\n",
        "\n",
        "-   n=125 itens → Tamanho da amostra\n",
        "\n",
        "-   x=7→ Número de peças defeituosas observado na amostra\n",
        "\n",
        "-   1-α=0,87 → Nível de confiança → 13%/2=6,5%=0,065\n",
        "\n",
        "-   𝑝=x/n=7/125=0,056→ Proporção de peças defeituosas observada na amostra.\n",
        "\n",
        "Suposições para o uso da distribuição normal:\n",
        "\n",
        "-   n\\. 𝑝\\>5 → 125.0,056 =7 \\>5 Ok!\n",
        "\n",
        "-   n.(1- 𝑝) \\>5 → 125.(1-0,056)=118 \\> 5 Ok!\n",
        "\n",
        "Interpretação do intervalo de confiança:\n"
      ]
    },
    {
      "cell_type": "code",
      "execution_count": null,
      "id": "5ec154fa",
      "metadata": {
        "id": "5ec154fa",
        "outputId": "4c064f7d-c151-4630-f7c4-b44967089e9c"
      },
      "outputs": [
        {
          "name": "stdout",
          "output_type": "stream",
          "text": [
            "(0.024862760653218824, 0.08713723934678118)\n"
          ]
        }
      ],
      "source": [
        "# Dados\n",
        "x = 7\n",
        "n = 125\n",
        "\n",
        "# Valor crítico Z\n",
        "zc = stats.norm.ppf(1 - (1 - 0.87)/2)\n",
        "\n",
        "# Proporção\n",
        "p = x / n\n",
        "\n",
        "# Erro amostral\n",
        "erro = zc * ((p * (1 - p)) / n) ** 0.5\n",
        "\n",
        "# Intervalo de confiança\n",
        "intervalo_confianca = (p - erro, p + erro)\n",
        "print(intervalo_confianca)"
      ]
    },
    {
      "cell_type": "markdown",
      "id": "b32dba1c",
      "metadata": {
        "id": "b32dba1c"
      },
      "source": [
        "Considerando um nível de 87% de confiança podemos dizer que a proporção de peças defeituosas produzidas pela empresa pode variar de 2,48% a 8,71% , com uma margem de erro de 3,11%\n",
        "\n",
        "***Refaça os cálculos utilizando 80% e 99% de confiança. Compare os resultados obtidos!***"
      ]
    },
    {
      "cell_type": "markdown",
      "id": "88912d63",
      "metadata": {
        "id": "88912d63"
      },
      "source": [
        "**Faça você mesmo**\n",
        "\n",
        "De uma amostra de 230 pessoas selecionadas aleatoriamente participantes de um grande evento, 145 disseram estar satisfeitas com o atendimento recebido. Os organizadores desse evento afirmar que a proporção de pessoas satisfeitas é igual a 70%. Com um nível de 92% de confiança, é possível contestar a afirmação dos organizadores?\n",
        "\n",
        "Parâmetro: Proporção de pessoas satisfeitas com o atendimento recebido.\n",
        "\n",
        "Dados disponíveis no enunciado:\n",
        "\n",
        "-   n=230 pessoas → Tamanho da amostra\n",
        "\n",
        "-   x=145 → Número de pessoas satisfeitas observado na amostra\n",
        "\n",
        "-   1-α=0,92 → Nível de confiança\n",
        "\n",
        "-   𝑝=x/n=145/230=0,06304→ Proporção de pessoas satisfeitas observada na amostra.\n",
        "\n"
      ]
    }
  ],
  "metadata": {
    "kernelspec": {
      "display_name": "Python 3 (ipykernel)",
      "language": "python",
      "name": "python3"
    },
    "language_info": {
      "codemirror_mode": {
        "name": "ipython",
        "version": 3
      },
      "file_extension": ".py",
      "mimetype": "text/x-python",
      "name": "python",
      "nbconvert_exporter": "python",
      "pygments_lexer": "ipython3",
      "version": "3.11.3"
    },
    "colab": {
      "provenance": [],
      "include_colab_link": true
    }
  },
  "nbformat": 4,
  "nbformat_minor": 5
}
