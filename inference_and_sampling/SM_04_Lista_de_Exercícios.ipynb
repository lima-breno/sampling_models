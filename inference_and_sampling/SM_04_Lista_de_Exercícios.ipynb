{
  "nbformat": 4,
  "nbformat_minor": 0,
  "metadata": {
    "colab": {
      "provenance": [],
      "authorship_tag": "ABX9TyP+3+3AsJhgHLp5MotiWetu",
      "include_colab_link": true
    },
    "kernelspec": {
      "name": "python3",
      "display_name": "Python 3"
    },
    "language_info": {
      "name": "python"
    }
  },
  "cells": [
    {
      "cell_type": "markdown",
      "metadata": {
        "id": "view-in-github",
        "colab_type": "text"
      },
      "source": [
        "<a href=\"https://colab.research.google.com/github/lima-breno/sampling_models/blob/main/SM_04_Lista_de_Exerc%C3%ADcios.ipynb\" target=\"_parent\"><img src=\"https://colab.research.google.com/assets/colab-badge.svg\" alt=\"Open In Colab\"/></a>"
      ]
    },
    {
      "cell_type": "markdown",
      "source": [
        "-------------------------------------------------------------------------\n",
        "*  PONTIFÍCIA UNIVERSIDADE CATÓLICA DE MINAS GERAIS\n",
        "*  PROFESSOR: ANAÍLE MENDES RABELO\n",
        "*  MATRÍCULA: 218150\n",
        "*  NOME: BRENO LIMA MAIA DA SILVA\n",
        "*  ATIVIDADE: LISTA 01\n",
        "\n",
        "-------------------------------------------------------------------------"
      ],
      "metadata": {
        "id": "6SujzQ8cAx1x"
      }
    },
    {
      "cell_type": "code",
      "source": [
        "# Baixando as bibliotecas necessárias para resolução dos exercícios\n",
        "import scipy.stats as stats\n",
        "import numpy as np"
      ],
      "metadata": {
        "id": "IL3LJ_uLB42W"
      },
      "execution_count": null,
      "outputs": []
    },
    {
      "cell_type": "markdown",
      "source": [
        "1. Se uma amostra aleatória n=25, tem uma média amostral de 51,3 e uma desvio padrão populacional de σ=2. Construa o intervalo com 95% de confiança para a média populacional µ.\n"
      ],
      "metadata": {
        "id": "uzbCckXTB2BC"
      }
    },
    {
      "cell_type": "code",
      "execution_count": null,
      "metadata": {
        "colab": {
          "base_uri": "https://localhost:8080/"
        },
        "id": "NAa2sNfn_dbx",
        "outputId": "9024ac47-d104-42a7-a71f-07c7cd4b2c70"
      },
      "outputs": [
        {
          "output_type": "stream",
          "name": "stdout",
          "text": [
            "Pode-se afirmar com 95% de confiança que o intervalo de 50.52 até 52.08 contém o verdadeiro valor da amostra avaliada.\n"
          ]
        }
      ],
      "source": [
        "# Definindo os dados do enunciado\n",
        " # X ~ N (51.3²)\n",
        " # 1-α = 0,95\n",
        "n = 25\n",
        "media = 51.3\n",
        "sigma = 2\n",
        "alpha = 0.05\n",
        "\n",
        "  # Definindo o valor crítico Z\n",
        "zc = stats.norm.ppf(1-alpha/2)\n",
        "\n",
        "# Definindo o erro amostral\n",
        "erro = zc * sigma / (n**0.5)\n",
        "\n",
        "# Criando o intervalo de confiança\n",
        "int_con_min = (media - erro)\n",
        "int_con_max = (media + erro)\n",
        "print(f'Pode-se afirmar com 95% de confiança que o intervalo de {int_con_min:.2f} até {int_con_max:.2f} contém o verdadeiro valor da amostra avaliada.')"
      ]
    },
    {
      "cell_type": "markdown",
      "source": [
        "2. Sabe-se que a vida em horas de um bulbo de lâmpada de 75W é distribuída de forma aproximadamente normal com desvio padrão de σ=25. Uma amostra aleatória de 20 bulbos tem uma vida media de 1.014 horas. Construa um intervalo de confiança de 95% para a vida média."
      ],
      "metadata": {
        "id": "zS0ONJ8zFgAn"
      }
    },
    {
      "cell_type": "code",
      "source": [
        "# Definindo os dados do enunciado\n",
        " # X ~ N (51.3²)\n",
        " # 1-α = 0,95\n",
        "n = 20\n",
        "sigma = 25\n",
        "media = 1014\n",
        "alpha = 0.05\n",
        "\n",
        " # Definindo o valor crítico Z\n",
        "zc = stats.norm.ppf(1-alpha/2)\n",
        "\n",
        "# Definindo o erro amostral\n",
        "erro = zc * sigma / (n**0.5)\n",
        "\n",
        "\n",
        "# Criando o intervalo de confiança\n",
        "int_con_min = (media - erro)\n",
        "int_con_max = (media + erro)\n",
        "print(f'Pode-se afirmar com 95% de confiança que o intervalo de {int_con_min:.2f} até {int_con_max:.2f} contém o verdadeiro valor da vida média dos bulbos de lâmpada')"
      ],
      "metadata": {
        "colab": {
          "base_uri": "https://localhost:8080/"
        },
        "id": "bSelTwB_FXw6",
        "outputId": "e1276613-1872-4dbd-fa0a-1889d71480ba"
      },
      "execution_count": null,
      "outputs": [
        {
          "output_type": "stream",
          "name": "stdout",
          "text": [
            "Pode-se afirmar com 95% de confiança que o intervalo de 1003.04 até 1024.96 contém o verdadeiro valor da vida média dos bulbos de lâmpada\n"
          ]
        }
      ]
    },
    {
      "cell_type": "markdown",
      "source": [
        "3. Qual deve ser o tamanho da amostra para que o intervalo com 99,5% de confiança para a média populacional tenha uma semi amplitude não superior a 1,5? Sabe-se que a variância populacional é de 23."
      ],
      "metadata": {
        "id": "5ihg3vPEHnQ9"
      }
    },
    {
      "cell_type": "code",
      "source": [
        "# Definindo os dados do enunciado (de forma conservadora)\n",
        " # X ~ N (semiamplitude)\n",
        " # 1-α = 0,995\n",
        " # n = ?\n",
        "\n",
        "var_pop = 23\n",
        "sigma = (var_pop)**(0.5)\n",
        "semi_amplitude = 1.5 # A semi-amplitude seria o erro máximo admissível!\n",
        "alpha = 0.005\n",
        "\n",
        "# Valor crítico Zc\n",
        "zc = stats.norm.ppf(1 - alpha)\n",
        "\n",
        "# Tamanho da amostra\n",
        "n = (zc * sigma / semi_amplitude) ** 2\n",
        "\n",
        "print(f\"Considerando o grau de confiança de 99,5%, um erro máximo admissível de 1,5 (interpretado no exercício como semi-amplitude) e uma variância populacional de 23, o tamanho da amostra necessário é: {n:.0f}\")"
      ],
      "metadata": {
        "colab": {
          "base_uri": "https://localhost:8080/"
        },
        "id": "Ugf8cnBfHjNr",
        "outputId": "541dc621-81eb-4809-8a76-f50e1211ab12"
      },
      "execution_count": null,
      "outputs": [
        {
          "output_type": "stream",
          "name": "stdout",
          "text": [
            "Considerando o grau de confiança de 99,5%, um erro máximo admissível de 1,5 (interpretado no exercício como semi-amplitude) e uma variância populacional de 23, o tamanho da amostra necessário é: 68\n"
          ]
        }
      ]
    },
    {
      "cell_type": "markdown",
      "source": [
        "4. Calcular o intervalo de confiança de 95% para a seguinte amostra, com variância populacional desconhecida:   19,8  18,5 17,6 16,7 15,8 15,4 14,1 13,6 11,9 11,4 11,4 8,8 7,5 15,4 15,4 19,5 14,9 12,7 11,9 11,4 10,1 7,9"
      ],
      "metadata": {
        "id": "ozvmIugGMfWU"
      }
    },
    {
      "cell_type": "code",
      "source": [
        "# Definindo os parâmetros (usando distribuição t-student)\n",
        "alpha = 0.05 # 95% de confiança\n",
        "amostra = (19.8, 18.5, 17.6, 16.7, 15.8, 15.4, 14.1, 13.6, 11.9, 11.4, 11.4, 8.8, 7.5, 15.4, 15.4, 19.5, 14.9, 12.7, 11.9, 11.4, 10.1, 7.9)\n",
        "GL = len(amostra)-1\n",
        "\n",
        "n = len(amostra)\n",
        "media = np.mean(amostra)\n",
        "desv_pad = np.std(amostra, ddof=1)\n",
        "\n",
        "\n",
        "# Valor crítico t\n",
        "tc = stats.t.ppf(1 - alpha / 2, GL)\n",
        "\n",
        "# Erro padrão da média\n",
        "erro = tc * desv_pad / np.sqrt(n)\n",
        "\n",
        "# Criando o intervalo de confiança\n",
        "int_conf_min = (media - erro)\n",
        "int_conf_max = (media + erro)\n",
        "print(f'Pode-se afirmar com 95% de confiança que o intervalo de {int_conf_min:.2f} até {int_conf_max:.2f} contém o verdadeiro valor da amostra apresentada na questão')"
      ],
      "metadata": {
        "colab": {
          "base_uri": "https://localhost:8080/"
        },
        "id": "t0TWlJS0KxM2",
        "outputId": "212716ce-1882-4522-ff6c-3d898d914eb2"
      },
      "execution_count": null,
      "outputs": [
        {
          "output_type": "stream",
          "name": "stdout",
          "text": [
            "Pode-se afirmar com 95% de confiança que o intervalo de 12.14 até 15.29 contém o verdadeiro valor da amostra apresentada na questão\n"
          ]
        }
      ]
    },
    {
      "cell_type": "markdown",
      "source": [
        "5. Uma marca particular de margarina diet foi analisada para determinar o nível em porcentagem de ácidos graxos insaturados. Uma amostra de seis pacotes resultou nos seguintes dados: 16,8; 17,2; 17,4; 16,9; 16,5 e 17,1. Encontre o intervalo de confiança de 99% para a amostra."
      ],
      "metadata": {
        "id": "I8DzVzKdQP2u"
      }
    },
    {
      "cell_type": "code",
      "source": [
        "# Definindo os parâmetros (distribuição t-student)\n",
        "amostra = (16.8, 17.2, 17.4, 16.9, 16.5, 17.1)\n",
        "alpha = 0.01\n",
        "n = 6\n",
        "GL = n-1\n",
        "\n",
        "# Desvio padrão\n",
        "desv_pad = np.std(amostra, ddof=1)\n",
        "\n",
        "# Valor crítico t\n",
        "tc = stats.t.ppf(1 - alpha / 2, GL)\n",
        "\n",
        "# Erro padrão da média\n",
        "erro = tc * desv_pad / np.sqrt(n)\n",
        "\n",
        "# Criando o intervalo de confiança\n",
        "int_conf_min = (media - erro)\n",
        "int_conf_max = (media + erro)\n",
        "print(f'Pode-se afirmar com 99% de confiança que o nível de ácidos graxos instaurados para a amostra avaliada possui um intervalo de {int_conf_min:.2f} até {int_conf_max:.2f}')"
      ],
      "metadata": {
        "colab": {
          "base_uri": "https://localhost:8080/"
        },
        "id": "W3DD0ofTNLPA",
        "outputId": "6ee905cd-c9fd-477c-a3ec-c7bafb448a55"
      },
      "execution_count": null,
      "outputs": [
        {
          "output_type": "stream",
          "name": "stdout",
          "text": [
            "Pode-se afirmar com 99% de confiança que o nível de ácidos graxos instaurados para a amostra avaliada possui um intervalo de 13.19 até 14.24\n"
          ]
        }
      ]
    },
    {
      "cell_type": "markdown",
      "source": [
        "6. Uma amostra piloto com 12 elementos tece média de 6,7 e desvio padrão de 1,7. Qual deve ser o tamanho da amostra para que a semi amplitude do intervalo de 99,5% de confiança da média populacional não seja superior a 0,8 ."
      ],
      "metadata": {
        "id": "zp5KF44bTcW7"
      }
    },
    {
      "cell_type": "code",
      "source": [
        "# Definindo os parâmetros (distribuição t-student)\n",
        "n = 12\n",
        "alpha = 0.005\n",
        "desv_pad = 1.7\n",
        "E = 0.8 #semi-amplitude se refee\n",
        "GL = n-1\n",
        "\n",
        "# Valor crítico t\n",
        "tc = stats.t.ppf(1 - alpha / 2, GL)\n",
        "\n",
        "# Erro padrão da média\n",
        "erro = tc * desv_pad / np.sqrt(n)\n",
        "\n",
        "# Tamanho amostral\n",
        "tamanho_amostra = (tc * desv_pad /E) ** 2\n",
        "\n",
        "print(f'O tamanho amostral necessário para se obter um nível de confiança de 99,5% no resultado da amostra piloto deve ser de {tamanho_amostra:.0f}')"
      ],
      "metadata": {
        "colab": {
          "base_uri": "https://localhost:8080/"
        },
        "id": "vOnKyopVSrPE",
        "outputId": "217e0f18-7737-47e1-eb69-b2692bc31f40"
      },
      "execution_count": null,
      "outputs": [
        {
          "output_type": "stream",
          "name": "stdout",
          "text": [
            "O tamanho amostral necessário para se obter um nível de confiança de 99,5% no resultado da amostra piloto deve ser de 55\n"
          ]
        }
      ]
    },
    {
      "cell_type": "markdown",
      "source": [
        "7. Em uma amostra aleatória de 85 mancais de eixos de manivelas de motores de automóveis, 10 têm um acabamento superficial mais rugoso do que as especificações permitidas. Calcule um intervalo de confiança para o 95% da proporção."
      ],
      "metadata": {
        "id": "mASHWWZAV8vA"
      }
    },
    {
      "cell_type": "code",
      "source": [
        "# Definindo os parâmetros (Considerando uma estimativa otimista)\n",
        "n = 85\n",
        "x = 10 #numero de sucesso\n",
        "alpha = 0.05\n",
        "prop = x/n #proporção amostral\n",
        "\n",
        "# Valor crítico Zc\n",
        "zc = stats.norm.ppf(1 - alpha) # Valor crítico para 95% de confiança (otimista!!)\n",
        "\n",
        " # Definindo o valor crítico Z\n",
        "zc = stats.norm.ppf(1-alpha/2)\n",
        "\n",
        "# Erro padrão\n",
        "E = np.sqrt((prop * (1 - prop)) / n)\n",
        "\n",
        "# Definindo o intervalo de confiança\n",
        "margem_erro = zc * E\n",
        "int_conf_min = (prop - margem_erro)*100\n",
        "int_conf_max = (prop + margem_erro)*100\n",
        "\n",
        "print(f'Pode-se afirmar otimistamente  que para um intervalo de 95% de confiança que a proporção de mancais de eixos de manivelas com acabamento mais rugoso do que as especificações permitidas está entre {int_conf_min:.2f}% e {int_conf_max:.2f}%')"
      ],
      "metadata": {
        "colab": {
          "base_uri": "https://localhost:8080/"
        },
        "id": "2UNO8atfVddL",
        "outputId": "fc9476af-6a69-4c63-adaf-c13ef0984b49"
      },
      "execution_count": null,
      "outputs": [
        {
          "output_type": "stream",
          "name": "stdout",
          "text": [
            "Pode-se afirmar otimistamente  que para um intervalo de 95% de confiança que a proporção de mancais de eixos de manivelas com acabamento mais rugoso do que as especificações permitidas está entre 4.92% e 18.61%\n"
          ]
        }
      ]
    },
    {
      "cell_type": "code",
      "source": [
        "#Definindo os parâmetros  (considerando uma estimativa conservadora)\n",
        "n = 85\n",
        "x = 10 #numero de sucesso\n",
        "alpha = 0.01 # Considerando uma estimativa conservadora!!\n",
        "prop = x/n #proporção amostral\n",
        "\n",
        "# Valor crítico Zc\n",
        "zc = stats.norm.ppf(1 - alpha) # Valor crítico para 99% de confiança (conservadora!!)\n",
        "\n",
        " # Definindo o valor crítico Z\n",
        "zc = stats.norm.ppf(1-alpha/2)\n",
        "\n",
        "# Erro padrão\n",
        "E = np.sqrt((prop * (1 - prop)) / n)\n",
        "\n",
        "# Definindo o intervalo de confiança\n",
        "margem_erro = zc * E\n",
        "int_conf_min = (prop - margem_erro)*100\n",
        "int_conf_max = (prop + margem_erro)*100\n",
        "\n",
        "print(f'Pode-se afirmar conservadoramente que para um intervalo de 95% de confiança que a proporção de mancais de eixos de manivelas com acabamento mais rugoso do que as especificações permitidas está entre {int_conf_min:.2f}% e {int_conf_max:.2f}%')"
      ],
      "metadata": {
        "colab": {
          "base_uri": "https://localhost:8080/"
        },
        "id": "xMXEuQSTcYJD",
        "outputId": "7bc58c73-69ca-4bcb-8f8e-5c8bfb8c1660"
      },
      "execution_count": null,
      "outputs": [
        {
          "output_type": "stream",
          "name": "stdout",
          "text": [
            "Pode-se afirmar conservadoramente que para um intervalo de 95% de confiança que a proporção de mancais de eixos de manivelas com acabamento mais rugoso do que as especificações permitidas está entre 2.76% e 20.77%\n"
          ]
        }
      ]
    },
    {
      "cell_type": "markdown",
      "source": [
        "8. De 1.000 casos selecionados de aleatoriamente de câncer de pulmão, 823 resultaram em morte. Construa um intervalo de confiança de 95% para a taxa de morte de câncer de pulmão."
      ],
      "metadata": {
        "id": "Ca6JuXE-elZ7"
      }
    },
    {
      "cell_type": "code",
      "source": [
        "#Definindo os parâmetros (para uma estimativa otimista)\n",
        "n= 1000\n",
        "x = 823\n",
        "alpha = 0.05\n",
        "prop = x/n\n",
        "\n",
        "# Valor crítico Zc\n",
        "zc = stats.norm.ppf(1 - alpha) # Valor crítico para 95% de confiança (otimista!!)\n",
        "\n",
        " # Definindo o valor crítico Z\n",
        "zc = stats.norm.ppf(1-alpha/2)\n",
        "\n",
        "# Erro padrão\n",
        "E = np.sqrt((prop * (1 - prop)) / n)\n",
        "\n",
        "# Definindo o intervalo de confiança\n",
        "margem_erro = zc * E\n",
        "int_conf_min = (prop - margem_erro)*100\n",
        "int_conf_max = (prop + margem_erro)*100\n",
        "\n",
        "\n",
        "print(f'Pode-se afirmar otimistamente que para um intervalo de 95% de confiança que a taxa de morte para cancêr de pulmão está entre {int_conf_min:.2f}% e {int_conf_max:.2f}%')\n"
      ],
      "metadata": {
        "colab": {
          "base_uri": "https://localhost:8080/"
        },
        "id": "HNh4ElPPehwH",
        "outputId": "4b6157f9-d51c-4461-f200-683062d3f615"
      },
      "execution_count": null,
      "outputs": [
        {
          "output_type": "stream",
          "name": "stdout",
          "text": [
            "Pode-se afirmar otimistamente que para um intervalo de 95% de confiança que a taxa de morte para cancêr de pulmão está entre 79.93% e 84.67%\n"
          ]
        }
      ]
    },
    {
      "cell_type": "code",
      "source": [
        "#Definindo os parâmetros (para uma estimativa otimista)\n",
        "n= 1000\n",
        "x = 823\n",
        "alpha = 0.01\n",
        "prop = x/n\n",
        "\n",
        "# Valor crítico Zc\n",
        "zc = stats.norm.ppf(1 - alpha) # Valor crítico para 99% de confiança (conservadora!!)\n",
        "\n",
        " # Definindo o valor crítico Z\n",
        "zc = stats.norm.ppf(1-alpha/2)\n",
        "\n",
        "# Erro padrão\n",
        "E = np.sqrt((prop * (1 - prop)) / n)\n",
        "\n",
        "# Definindo o intervalo de confiança\n",
        "margem_erro = zc * E\n",
        "int_conf_min = (prop - margem_erro)*100\n",
        "int_conf_max = (prop + margem_erro)*100\n",
        "\n",
        "\n",
        "print(f'Pode-se afirmar conservadoramente que para um intervalo de 95% de confiança que a taxa de morte para cancêr de pulmão está entre {int_conf_min:.2f}% e {int_conf_max:.2f}%')"
      ],
      "metadata": {
        "colab": {
          "base_uri": "https://localhost:8080/"
        },
        "id": "5xztF39ZfJaa",
        "outputId": "9fdacca6-fc8e-486d-d0e9-df28dc6338ad"
      },
      "execution_count": null,
      "outputs": [
        {
          "output_type": "stream",
          "name": "stdout",
          "text": [
            "Pode-se afirmar conservadoramente que para um intervalo de 95% de confiança que a taxa de morte para cancêr de pulmão está entre 79.19% e 85.41%\n"
          ]
        }
      ]
    },
    {
      "cell_type": "markdown",
      "source": [
        "9. Sabe-se que a proporção de animais contaminados com uma determinada doença não é superior a 10%. Qual deve o tamanho da amostra para que a semi amplitude do intervalo com 92% de confiança para a fração populacional não seja superior a 2%?"
      ],
      "metadata": {
        "id": "wJ-duyu-f3Uy"
      }
    },
    {
      "cell_type": "code",
      "source": [
        "# Definindo os parâmetros\n",
        "prop = 0.1\n",
        "E = 0.02\n",
        "alpha = 0.08\n",
        "\n",
        "\n",
        "# Valor crítico Zc\n",
        "zc = stats.norm.ppf(1 - alpha/2) # Valor crítico para 92% de confiança\n",
        "\n",
        "#Tamanho amostral\n",
        "n = (zc**2 * prop * (1-prop)) / (E**2)\n",
        "\n",
        "print(f'O tamanho amostral necessário para se obter um nível de confiança de 92% para a fração populacional não ser superior a 2 % deve ser de {n:.0f}')"
      ],
      "metadata": {
        "colab": {
          "base_uri": "https://localhost:8080/"
        },
        "id": "8ir98nRRfwus",
        "outputId": "63b24e0a-5977-4678-c2b9-5e109b34e67b"
      },
      "execution_count": null,
      "outputs": [
        {
          "output_type": "stream",
          "name": "stdout",
          "text": [
            "O tamanho amostral necessário para se obter um nível de confiança de 92% para a fração populacional não ser superior a 2 % deve ser de 690\n"
          ]
        }
      ]
    }
  ]
}
